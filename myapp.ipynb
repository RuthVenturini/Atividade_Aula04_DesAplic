{
  "nbformat": 4,
  "nbformat_minor": 0,
  "metadata": {
    "colab": {
      "provenance": [],
      "authorship_tag": "ABX9TyPhUhu3b+3ZeX2NJg0IERSR",
      "include_colab_link": true
    },
    "kernelspec": {
      "name": "python3",
      "display_name": "Python 3"
    },
    "language_info": {
      "name": "python"
    }
  },
  "cells": [
    {
      "cell_type": "markdown",
      "metadata": {
        "id": "view-in-github",
        "colab_type": "text"
      },
      "source": [
        "<a href=\"https://colab.research.google.com/github/RuthVenturini/Atividade_Aula04_DesAplic/blob/main/myapp.ipynb\" target=\"_parent\"><img src=\"https://colab.research.google.com/assets/colab-badge.svg\" alt=\"Open In Colab\"/></a>"
      ]
    },
    {
      "cell_type": "markdown",
      "source": [
        "Disciplina: Desenvolvimento de Aplicações Geoespaciais\n",
        "\n",
        "Aluna: Ruth Venturini Mariani"
      ],
      "metadata": {
        "id": "tRdHEAmrg9Na"
      }
    },
    {
      "cell_type": "code",
      "source": [
        "!pip install -q streamlit"
      ],
      "metadata": {
        "id": "DTLw1-C7qs5o"
      },
      "execution_count": 9,
      "outputs": []
    },
    {
      "cell_type": "code",
      "source": [
        "%%writefile app.py\n",
        "    import streamlit as st\n",
        "    st.title(\"A minha primeira aplicação Streamlit\")\n",
        "    st.write(\"Olá, mundo!\")\n",
        ""
      ],
      "metadata": {
        "colab": {
          "base_uri": "https://localhost:8080/"
        },
        "id": "M3xfCSzbqZav",
        "outputId": "dfe1a9f8-cebd-4a97-aab2-d17303271454"
      },
      "execution_count": 12,
      "outputs": [
        {
          "output_type": "stream",
          "name": "stdout",
          "text": [
            "Overwriting app.py\n"
          ]
        }
      ]
    },
    {
      "cell_type": "code",
      "source": [
        "!npm install localtunnel"
      ],
      "metadata": {
        "colab": {
          "base_uri": "https://localhost:8080/"
        },
        "id": "IbyDg0UpthyY",
        "outputId": "ce310b61-43a3-46a5-cec4-7a2eba90bd94"
      },
      "execution_count": 17,
      "outputs": [
        {
          "output_type": "stream",
          "name": "stdout",
          "text": [
            "\u001b[1G\u001b[0K⠙\u001b[1G\u001b[0K⠹\u001b[1G\u001b[0K⠸\u001b[1G\u001b[0K⠼\u001b[1G\u001b[0K⠴\u001b[1G\u001b[0K⠦\u001b[1G\u001b[0K\n",
            "added 22 packages in 910ms\n",
            "\u001b[1G\u001b[0K⠦\u001b[1G\u001b[0K\n",
            "\u001b[1G\u001b[0K⠦\u001b[1G\u001b[0K3 packages are looking for funding\n",
            "\u001b[1G\u001b[0K⠦\u001b[1G\u001b[0K  run `npm fund` for details\n",
            "\u001b[1G\u001b[0K⠦\u001b[1G\u001b[0K"
          ]
        }
      ]
    },
    {
      "cell_type": "code",
      "source": [
        "!streamlit run app.py &>/content/logs.txt &"
      ],
      "metadata": {
        "id": "n2Kx_Sk_tnIL"
      },
      "execution_count": 18,
      "outputs": []
    },
    {
      "cell_type": "code",
      "source": [
        "!npx localtunnel --port 8501 & curl ipv4.icanhazip.com"
      ],
      "metadata": {
        "colab": {
          "base_uri": "https://localhost:8080/"
        },
        "id": "q2BQWKZEtqFp",
        "outputId": "10165876-098a-4c72-f485-f3a74fb6912e"
      },
      "execution_count": null,
      "outputs": [
        {
          "output_type": "stream",
          "name": "stdout",
          "text": [
            "34.168.227.249\n",
            "\u001b[1G\u001b[0K⠙\u001b[1G\u001b[0Kyour url is: https://forty-spiders-rhyme.loca.lt\n"
          ]
        }
      ]
    },
    {
      "cell_type": "code",
      "source": [
        "st.set_page_config(page_title=\"Aula 04 - Desenvolvimento de aplicações geoespaciais\")\n",
        "st.write(\"Exercício de aula\")\n",
        "!streamlit run /usr/local/lib/python3.11/dist-packages/colab_kernel_launcher.py"
      ],
      "metadata": {
        "id": "jM5KI6Zwq2iI"
      },
      "execution_count": null,
      "outputs": []
    },
    {
      "cell_type": "markdown",
      "source": [
        "1 - Ao se digitar dois endereços, calcular a distância geodésica entre eles e plotar no mapa."
      ],
      "metadata": {
        "id": "Og4PlcsehANJ"
      }
    },
    {
      "cell_type": "code",
      "source": [
        "from geopy.geocoders import Nominatim\n",
        "import folium\n",
        "\n",
        "geolocator = Nominatim(user_agent='ruthventurini.academico@gmail.com')\n",
        "endereco1 = input (\"Entre com o primeiro endereço: \")\n",
        "endereco2 = input (\"Entre com o segundo endereço: \")\n",
        "localizacao1 = geolocator.geocode(endereco1)\n",
        "localizacao2 = geolocator.geocode(endereco2)\n",
        "\n",
        "coordinates = [\n",
        "    [localizacao1.latitude, localizacao1.longitude],\n",
        "    [localizacao2.latitude, localizacao2.longitude]\n",
        "]\n",
        "\n",
        "from geographiclib.geodesic import Geodesic\n",
        "import math\n",
        "geod = Geodesic.WGS84\n",
        "g = geod.Inverse(localizacao1.latitude, localizacao1.longitude, localizacao2.latitude, localizacao2.longitude)\n",
        "\n",
        "print(\"A distância é {:.3f} m.\".format(g['s12']))"
      ],
      "metadata": {
        "colab": {
          "base_uri": "https://localhost:8080/"
        },
        "id": "VM9JISesg_q5",
        "outputId": "80ec0075-ffe7-428c-f337-eab5e24cec2f"
      },
      "execution_count": null,
      "outputs": [
        {
          "output_type": "stream",
          "name": "stdout",
          "text": [
            "Entre com o primeiro endereço: Avenida Presidente Vargas 1733\n",
            "Entre com o segundo endereço: Rua Alfredo Bufren 140\n",
            "A distância é 677584.258 m.\n"
          ]
        }
      ]
    },
    {
      "cell_type": "code",
      "source": [
        "mapa = folium.Map(location=[(localizacao1.latitude + localizacao2.latitude) / 2, (localizacao1.longitude + localizacao2.longitude) / 2], zoom_start=8)\n",
        "\n",
        "folium.Marker([localizacao1.latitude, localizacao1.longitude], popup=endereco1, icon=folium.Icon(color='green', icon='star')).add_to(mapa)\n",
        "folium.Marker([localizacao2.latitude, localizacao2.longitude], popup=endereco2, icon=folium.Icon(color='blue', icon='star')).add_to(mapa)\n",
        "folium.PolyLine(\n",
        "    locations=coordinates,\n",
        "    color='red',\n",
        "    weight=5,\n",
        "    tooltip=\"Distância Geodésica\",\n",
        ").add_to(mapa)\n",
        "\n",
        "mapa"
      ],
      "metadata": {
        "colab": {
          "base_uri": "https://localhost:8080/",
          "height": 1000
        },
        "id": "bfaMjB3NH8tW",
        "outputId": "d87d0f2c-d03e-4d19-b358-d61433f6102c"
      },
      "execution_count": null,
      "outputs": [
        {
          "output_type": "execute_result",
          "data": {
            "text/plain": [
              "<folium.folium.Map at 0x7a748809d890>"
            ],
            "text/html": [
              "<div style=\"width:100%;\"><div style=\"position:relative;width:100%;height:0;padding-bottom:60%;\"><span style=\"color:#565656\">Make this Notebook Trusted to load map: File -> Trust Notebook</span><iframe srcdoc=\"&lt;!DOCTYPE html&gt;\n",
              "&lt;html&gt;\n",
              "&lt;head&gt;\n",
              "    \n",
              "    &lt;meta http-equiv=&quot;content-type&quot; content=&quot;text/html; charset=UTF-8&quot; /&gt;\n",
              "    \n",
              "        &lt;script&gt;\n",
              "            L_NO_TOUCH = false;\n",
              "            L_DISABLE_3D = false;\n",
              "        &lt;/script&gt;\n",
              "    \n",
              "    &lt;style&gt;html, body {width: 100%;height: 100%;margin: 0;padding: 0;}&lt;/style&gt;\n",
              "    &lt;style&gt;#map {position:absolute;top:0;bottom:0;right:0;left:0;}&lt;/style&gt;\n",
              "    &lt;script src=&quot;https://cdn.jsdelivr.net/npm/leaflet@1.9.3/dist/leaflet.js&quot;&gt;&lt;/script&gt;\n",
              "    &lt;script src=&quot;https://code.jquery.com/jquery-3.7.1.min.js&quot;&gt;&lt;/script&gt;\n",
              "    &lt;script src=&quot;https://cdn.jsdelivr.net/npm/bootstrap@5.2.2/dist/js/bootstrap.bundle.min.js&quot;&gt;&lt;/script&gt;\n",
              "    &lt;script src=&quot;https://cdnjs.cloudflare.com/ajax/libs/Leaflet.awesome-markers/2.0.2/leaflet.awesome-markers.js&quot;&gt;&lt;/script&gt;\n",
              "    &lt;link rel=&quot;stylesheet&quot; href=&quot;https://cdn.jsdelivr.net/npm/leaflet@1.9.3/dist/leaflet.css&quot;/&gt;\n",
              "    &lt;link rel=&quot;stylesheet&quot; href=&quot;https://cdn.jsdelivr.net/npm/bootstrap@5.2.2/dist/css/bootstrap.min.css&quot;/&gt;\n",
              "    &lt;link rel=&quot;stylesheet&quot; href=&quot;https://netdna.bootstrapcdn.com/bootstrap/3.0.0/css/bootstrap-glyphicons.css&quot;/&gt;\n",
              "    &lt;link rel=&quot;stylesheet&quot; href=&quot;https://cdn.jsdelivr.net/npm/@fortawesome/fontawesome-free@6.2.0/css/all.min.css&quot;/&gt;\n",
              "    &lt;link rel=&quot;stylesheet&quot; href=&quot;https://cdnjs.cloudflare.com/ajax/libs/Leaflet.awesome-markers/2.0.2/leaflet.awesome-markers.css&quot;/&gt;\n",
              "    &lt;link rel=&quot;stylesheet&quot; href=&quot;https://cdn.jsdelivr.net/gh/python-visualization/folium/folium/templates/leaflet.awesome.rotate.min.css&quot;/&gt;\n",
              "    \n",
              "            &lt;meta name=&quot;viewport&quot; content=&quot;width=device-width,\n",
              "                initial-scale=1.0, maximum-scale=1.0, user-scalable=no&quot; /&gt;\n",
              "            &lt;style&gt;\n",
              "                #map_69f1800d1791d18115674292ebc17c61 {\n",
              "                    position: relative;\n",
              "                    width: 100.0%;\n",
              "                    height: 100.0%;\n",
              "                    left: 0.0%;\n",
              "                    top: 0.0%;\n",
              "                }\n",
              "                .leaflet-container { font-size: 1rem; }\n",
              "            &lt;/style&gt;\n",
              "        \n",
              "&lt;/head&gt;\n",
              "&lt;body&gt;\n",
              "    \n",
              "    \n",
              "            &lt;div class=&quot;folium-map&quot; id=&quot;map_69f1800d1791d18115674292ebc17c61&quot; &gt;&lt;/div&gt;\n",
              "        \n",
              "&lt;/body&gt;\n",
              "&lt;script&gt;\n",
              "    \n",
              "    \n",
              "            var map_69f1800d1791d18115674292ebc17c61 = L.map(\n",
              "                &quot;map_69f1800d1791d18115674292ebc17c61&quot;,\n",
              "                {\n",
              "                    center: [-24.1673688, -46.2299496],\n",
              "                    crs: L.CRS.EPSG3857,\n",
              "                    ...{\n",
              "  &quot;zoom&quot;: 8,\n",
              "  &quot;zoomControl&quot;: true,\n",
              "  &quot;preferCanvas&quot;: false,\n",
              "}\n",
              "\n",
              "                }\n",
              "            );\n",
              "\n",
              "            \n",
              "\n",
              "        \n",
              "    \n",
              "            var tile_layer_ca1bfbdd54c0161769016bc16d65aa45 = L.tileLayer(\n",
              "                &quot;https://tile.openstreetmap.org/{z}/{x}/{y}.png&quot;,\n",
              "                {\n",
              "  &quot;minZoom&quot;: 0,\n",
              "  &quot;maxZoom&quot;: 19,\n",
              "  &quot;maxNativeZoom&quot;: 19,\n",
              "  &quot;noWrap&quot;: false,\n",
              "  &quot;attribution&quot;: &quot;\\u0026copy; \\u003ca href=\\&quot;https://www.openstreetmap.org/copyright\\&quot;\\u003eOpenStreetMap\\u003c/a\\u003e contributors&quot;,\n",
              "  &quot;subdomains&quot;: &quot;abc&quot;,\n",
              "  &quot;detectRetina&quot;: false,\n",
              "  &quot;tms&quot;: false,\n",
              "  &quot;opacity&quot;: 1,\n",
              "}\n",
              "\n",
              "            );\n",
              "        \n",
              "    \n",
              "            tile_layer_ca1bfbdd54c0161769016bc16d65aa45.addTo(map_69f1800d1791d18115674292ebc17c61);\n",
              "        \n",
              "    \n",
              "            var marker_884c0692eeb13671df30b427443fbfeb = L.marker(\n",
              "                [-22.9059834, -43.1920805],\n",
              "                {\n",
              "}\n",
              "            ).addTo(map_69f1800d1791d18115674292ebc17c61);\n",
              "        \n",
              "    \n",
              "            var icon_0f1532b2cc67de447c3a0fe004b86b55 = L.AwesomeMarkers.icon(\n",
              "                {\n",
              "  &quot;markerColor&quot;: &quot;green&quot;,\n",
              "  &quot;iconColor&quot;: &quot;white&quot;,\n",
              "  &quot;icon&quot;: &quot;star&quot;,\n",
              "  &quot;prefix&quot;: &quot;glyphicon&quot;,\n",
              "  &quot;extraClasses&quot;: &quot;fa-rotate-0&quot;,\n",
              "}\n",
              "            );\n",
              "        \n",
              "    \n",
              "        var popup_8f75e4c814bf42082e07d17afb3065bf = L.popup({\n",
              "  &quot;maxWidth&quot;: &quot;100%&quot;,\n",
              "});\n",
              "\n",
              "        \n",
              "            \n",
              "                var html_324332be82dd258371ce600397daa8ea = $(`&lt;div id=&quot;html_324332be82dd258371ce600397daa8ea&quot; style=&quot;width: 100.0%; height: 100.0%;&quot;&gt;Avenida Presidente Vargas 1733&lt;/div&gt;`)[0];\n",
              "                popup_8f75e4c814bf42082e07d17afb3065bf.setContent(html_324332be82dd258371ce600397daa8ea);\n",
              "            \n",
              "        \n",
              "\n",
              "        marker_884c0692eeb13671df30b427443fbfeb.bindPopup(popup_8f75e4c814bf42082e07d17afb3065bf)\n",
              "        ;\n",
              "\n",
              "        \n",
              "    \n",
              "    \n",
              "                marker_884c0692eeb13671df30b427443fbfeb.setIcon(icon_0f1532b2cc67de447c3a0fe004b86b55);\n",
              "            \n",
              "    \n",
              "            var marker_3b35538eabf293c211bbdc20b30bb862 = L.marker(\n",
              "                [-25.4287542, -49.2678187],\n",
              "                {\n",
              "}\n",
              "            ).addTo(map_69f1800d1791d18115674292ebc17c61);\n",
              "        \n",
              "    \n",
              "            var icon_37cdf5bf3a8dbb391167e4af57f3fd2d = L.AwesomeMarkers.icon(\n",
              "                {\n",
              "  &quot;markerColor&quot;: &quot;blue&quot;,\n",
              "  &quot;iconColor&quot;: &quot;white&quot;,\n",
              "  &quot;icon&quot;: &quot;star&quot;,\n",
              "  &quot;prefix&quot;: &quot;glyphicon&quot;,\n",
              "  &quot;extraClasses&quot;: &quot;fa-rotate-0&quot;,\n",
              "}\n",
              "            );\n",
              "        \n",
              "    \n",
              "        var popup_901fbb07b0452e2d22c0406cccab2bb5 = L.popup({\n",
              "  &quot;maxWidth&quot;: &quot;100%&quot;,\n",
              "});\n",
              "\n",
              "        \n",
              "            \n",
              "                var html_c2823d701d3c83f0375e9a08e792a060 = $(`&lt;div id=&quot;html_c2823d701d3c83f0375e9a08e792a060&quot; style=&quot;width: 100.0%; height: 100.0%;&quot;&gt;Rua Alfredo Bufren 140&lt;/div&gt;`)[0];\n",
              "                popup_901fbb07b0452e2d22c0406cccab2bb5.setContent(html_c2823d701d3c83f0375e9a08e792a060);\n",
              "            \n",
              "        \n",
              "\n",
              "        marker_3b35538eabf293c211bbdc20b30bb862.bindPopup(popup_901fbb07b0452e2d22c0406cccab2bb5)\n",
              "        ;\n",
              "\n",
              "        \n",
              "    \n",
              "    \n",
              "                marker_3b35538eabf293c211bbdc20b30bb862.setIcon(icon_37cdf5bf3a8dbb391167e4af57f3fd2d);\n",
              "            \n",
              "    \n",
              "            var poly_line_12057f8f055e7017828f3d88b86c5e40 = L.polyline(\n",
              "                [[-22.9059834, -43.1920805], [-25.4287542, -49.2678187]],\n",
              "                {&quot;bubblingMouseEvents&quot;: true, &quot;color&quot;: &quot;red&quot;, &quot;dashArray&quot;: null, &quot;dashOffset&quot;: null, &quot;fill&quot;: false, &quot;fillColor&quot;: &quot;red&quot;, &quot;fillOpacity&quot;: 0.2, &quot;fillRule&quot;: &quot;evenodd&quot;, &quot;lineCap&quot;: &quot;round&quot;, &quot;lineJoin&quot;: &quot;round&quot;, &quot;noClip&quot;: false, &quot;opacity&quot;: 1.0, &quot;smoothFactor&quot;: 1.0, &quot;stroke&quot;: true, &quot;weight&quot;: 5}\n",
              "            ).addTo(map_69f1800d1791d18115674292ebc17c61);\n",
              "        \n",
              "    \n",
              "            poly_line_12057f8f055e7017828f3d88b86c5e40.bindTooltip(\n",
              "                `&lt;div&gt;\n",
              "                     Distância Geodésica\n",
              "                 &lt;/div&gt;`,\n",
              "                {\n",
              "  &quot;sticky&quot;: true,\n",
              "}\n",
              "            );\n",
              "        \n",
              "&lt;/script&gt;\n",
              "&lt;/html&gt;\" style=\"position:absolute;width:100%;height:100%;left:0;top:0;border:none !important;\" allowfullscreen webkitallowfullscreen mozallowfullscreen></iframe></div></div>"
            ]
          },
          "metadata": {},
          "execution_count": 5
        }
      ]
    }
  ]
}